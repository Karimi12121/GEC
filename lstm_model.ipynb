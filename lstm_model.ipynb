{
  "cells": [
    {
      "cell_type": "code",
      "execution_count": null,
      "metadata": {
        "id": "MMaKmeYfy3cu",
        "colab": {
          "base_uri": "https://localhost:8080/"
        },
        "outputId": "06a64311-84eb-473c-d4f7-45c66d51fc28"
      },
      "outputs": [
        {
          "output_type": "stream",
          "name": "stdout",
          "text": [
            "Collecting textstat\n",
            "  Downloading textstat-0.7.3-py3-none-any.whl (105 kB)\n",
            "\u001b[2K     \u001b[90m━━━━━━━━━━━━━━━━━━━━━━━━━━━━━━━━━━━━━━━━\u001b[0m \u001b[32m105.1/105.1 kB\u001b[0m \u001b[31m3.0 MB/s\u001b[0m eta \u001b[36m0:00:00\u001b[0m\n",
            "\u001b[?25hCollecting pyphen (from textstat)\n",
            "  Downloading pyphen-0.14.0-py3-none-any.whl (2.0 MB)\n",
            "\u001b[2K     \u001b[90m━━━━━━━━━━━━━━━━━━━━━━━━━━━━━━━━━━━━━━━━\u001b[0m \u001b[32m2.0/2.0 MB\u001b[0m \u001b[31m38.9 MB/s\u001b[0m eta \u001b[36m0:00:00\u001b[0m\n",
            "\u001b[?25hInstalling collected packages: pyphen, textstat\n",
            "Successfully installed pyphen-0.14.0 textstat-0.7.3\n"
          ]
        }
      ],
      "source": [
        "pip install textstat"
      ]
    },
    {
      "cell_type": "code",
      "source": [
        "import nltk\n",
        "import warnings\n",
        "import tensorflow as tf\n",
        "import matplotlib.pyplot as plt\n",
        "from tensorflow.keras.callbacks import LearningRateScheduler, TensorBoard, ReduceLROnPlateau, ModelCheckpoint, EarlyStopping\n",
        "from tensorflow.keras.preprocessing.sequence import pad_sequences\n",
        "from tensorflow.keras.layers import Embedding, LSTM, Dense, RNN\n",
        "from tensorflow.keras.preprocessing.text import Tokenizer\n",
        "from nltk.stem import WordNetLemmatizer,PorterStemmer\n",
        "from tensorflow.keras.optimizers import Adam, Nadam\n",
        "from tensorflow.keras.models import Model\n",
        "from nltk.tokenize import word_tokenize\n",
        "warnings.filterwarnings(\"ignore\")\n",
        "from textblob import TextBlob\n",
        "from nltk.util import ngrams\n",
        "import matplotlib.cm as cm\n",
        "import matplotlib as mpl\n",
        "from tqdm import tqdm\n",
        "import pandas as pd\n",
        "import numpy as np\n",
        "import zipfile\n",
        "import random\n",
        "import pickle\n",
        "import re"
      ],
      "metadata": {
        "id": "mQzD1kBO5AK0",
        "colab": {
          "base_uri": "https://localhost:8080/"
        },
        "outputId": "c2d3b070-1764-423c-95f2-ae1d316fed55"
      },
      "execution_count": null,
      "outputs": [
        {
          "output_type": "stream",
          "name": "stdout",
          "text": [
            "Drive already mounted at /content/drive; to attempt to forcibly remount, call drive.mount(\"/content/drive\", force_remount=True).\n"
          ]
        }
      ]
    },
    {
      "cell_type": "code",
      "execution_count": null,
      "metadata": {
        "id": "bcc-nnr-iyqe"
      },
      "outputs": [],
      "source": [
        "tokenizer_enc = pickle.load(open(r\"tokenizer_encoder.pkl\", \"rb\"))\n",
        "tokenizer_dec = pickle.load(open(r\"tokenizer_decoder.pkl\", \"rb\"))\n",
        "\n",
        "train_enc_inp = pickle.load(open(r\"train_encoder_input.pkl\", \"rb\"))\n",
        "val_enc_inp = pickle.load(open(r\"validation_encoder_input.pkl\", \"rb\"))\n",
        "test_enc_inp = pickle.load(open(r\"test_encoder_input.pkl\", \"rb\"))\n",
        "\n",
        "train_dec_inp = pickle.load(open(r\"train_decoder_input.pkl\", \"rb\"))\n",
        "val_dec_inp = pickle.load(open(r\"validation_decoder_input.pkl\", \"rb\"))\n",
        "test_dec_inp = pickle.load(open(r\"test_decoder_input.pkl\", \"rb\"))\n",
        "\n",
        "train_dec_out = pickle.load(open(r\"train_decoder_output.pkl\", \"rb\"))\n",
        "val_dec_out = pickle.load(open(r\"validation_decoder_output.pkl\", \"rb\"))\n",
        "test_dec_out = pickle.load(open(r\"test_decoder_output.pkl\", \"rb\"))"
      ]
    },
    {
      "cell_type": "code",
      "execution_count": null,
      "metadata": {
        "id": "yDYIIm_biyqg"
      },
      "outputs": [],
      "source": [
        "class Encoder(tf.keras.Model):\n",
        "\n",
        "\n",
        "    def __init__(self, vocab_size, output_dim, enc_units, input_length):\n",
        "        super().__init__()\n",
        "        self.vocab_size = vocab_size\n",
        "        self.output_dim = output_dim\n",
        "        self.input_length = input_length\n",
        "        self.enc_units = enc_units\n",
        "        self.enc_output = 0\n",
        "        self.enc_state_h = 0\n",
        "        self.enc_state_c = 0\n",
        "\n",
        "        self.embedding = Embedding(input_dim=self.vocab_size, output_dim=self.output_dim,\n",
        "                                   input_length=self.input_length, mask_zero=True, name=\"embedding_layer_encoder\")\n",
        "\n",
        "        self.enc = LSTM(self.enc_units, return_state=True, return_sequences=True, name=\"Encoder_LSTM\")\n",
        "\n",
        "    def call(self,input_sequence, states):\n",
        "        input_embedding = self.embedding(input_sequence)\n",
        "        self.enc_output, self.enc_state_h, self.enc_state_c = self.enc(input_embedding, initial_state=states)\n",
        "        return self.enc_output, self.enc_state_h, self.enc_state_c\n",
        "\n",
        "    def initialize_states(self, batch_size):\n",
        "        ini_hidden_state = tf.zeros(shape=(batch_size, self.enc_units))\n",
        "        ini_cell_state = tf.zeros(shape=(batch_size, self.enc_units))\n",
        "        return ini_hidden_state, ini_cell_state"
      ]
    },
    {
      "cell_type": "code",
      "execution_count": null,
      "metadata": {
        "id": "FL4PqI37iyqh"
      },
      "outputs": [],
      "source": [
        "class Decoder(tf.keras.Model):\n",
        "\n",
        "\n",
        "    def __init__(self, vocab_size, output_dim, dec_units, input_length):\n",
        "        super().__init__()\n",
        "        self.vocab_size = vocab_size\n",
        "        self.output_dim = output_dim\n",
        "        self.dec_units = dec_units\n",
        "        self.input_length = input_length\n",
        "\n",
        "        self.embedding = Embedding(input_dim=self.vocab_size, output_dim=self.output_dim,\n",
        "                                   input_length=self.input_length, mask_zero=True, name=\"embedding_layer_decoder\")\n",
        "\n",
        "        self.dec = LSTM(self.dec_units, return_sequences=True, return_state=True, name=\"Decoder_LSTM\")\n",
        "\n",
        "    def call(self,input_sequence, initial_states):\n",
        "        target_embedding = self.embedding(input_sequence)\n",
        "        dec_output, dec_state_h, dec_state_c = self.dec(target_embedding, initial_state=initial_states)\n",
        "        return dec_output, dec_state_h, dec_state_c"
      ]
    },
    {
      "cell_type": "code",
      "execution_count": null,
      "metadata": {
        "id": "rfhR4UcGiyqh"
      },
      "outputs": [],
      "source": [
        "class Encoder_decoder(tf.keras.Model):\n",
        "\n",
        "\n",
        "    def __init__(self, enc_vocab_size, enc_output_dim, enc_inp_length, enc_units,\n",
        "                 dec_vocab_size, dec_output_dim, dec_inp_length, dec_units, batch_size):\n",
        "\n",
        "        super().__init__()\n",
        "        self.encoder = Encoder(vocab_size=enc_vocab_size, output_dim=enc_output_dim,\n",
        "                               input_length=enc_inp_length, enc_units=enc_units)\n",
        "        self.decoder = Decoder(vocab_size=dec_vocab_size, output_dim=dec_output_dim,\n",
        "                               input_length=dec_inp_length, dec_units=dec_units)\n",
        "        self.dense   = Dense(dec_vocab_size, activation='softmax')\n",
        "        self.ini_states = self.encoder.initialize_states(batch_size=batch_size)\n",
        "\n",
        "    def call(self,data):\n",
        "        input,output = data[0], data[1]\n",
        "        enc_output, enc_h,enc_c = self.encoder(input, self.ini_states)\n",
        "        dec_output, dec_h,dec_c = self.decoder(output, [enc_h, enc_c])\n",
        "        output = self.dense(dec_output)\n",
        "        return output"
      ]
    },
    {
      "cell_type": "code",
      "execution_count": null,
      "metadata": {
        "id": "sMEJ7IZciyqi"
      },
      "outputs": [],
      "source": [
        "loss_object = tf.keras.losses.SparseCategoricalCrossentropy(from_logits=True, reduction='none')\n",
        "\n",
        "def loss_function(real, pred):\n",
        "    mask = tf.math.logical_not(tf.math.equal(real, 0))\n",
        "    loss_ = loss_object(real, pred)\n",
        "    mask = tf.cast(mask, dtype=loss_.dtype)\n",
        "    loss_ *= mask\n",
        "    return tf.reduce_mean(loss_)"
      ]
    },
    {
      "cell_type": "code",
      "execution_count": null,
      "metadata": {
        "id": "qMU2pT6Biyqi"
      },
      "outputs": [],
      "source": [
        "enc_voc_size = len(tokenizer_enc.word_index) + 1\n",
        "dec_voc_size = len(tokenizer_dec.word_index) + 1\n",
        "embedd_dim = 100\n",
        "enc_inp_len = 12\n",
        "dec_inp_len = 13\n",
        "lstm_size=64\n",
        "batch_size=1024"
      ]
    },
    {
      "cell_type": "code",
      "execution_count": null,
      "metadata": {
        "id": "1lSUa7nniyqj"
      },
      "outputs": [],
      "source": [
        "train_trunc_idx = (train_enc_inp.shape[0]//batch_size)*batch_size\n",
        "val_trunc_idx = (val_enc_inp.shape[0]//batch_size)*batch_size\n",
        "\n",
        "train_enc_inp_truncated = train_enc_inp[:train_trunc_idx]\n",
        "train_dec_inp_truncated = train_dec_inp[:train_trunc_idx]\n",
        "train_dec_out_truncated = train_dec_out[:train_trunc_idx]\n",
        "\n",
        "val_enc_inp_truncated = val_enc_inp[:val_trunc_idx]\n",
        "val_dec_inp_truncated = val_dec_inp[:val_trunc_idx]\n",
        "val_dec_out_truncated = val_dec_out[:val_trunc_idx]"
      ]
    },
    {
      "cell_type": "code",
      "execution_count": null,
      "metadata": {
        "id": "5fyPO5eWiyqj"
      },
      "outputs": [],
      "source": [
        "model  = Encoder_decoder(enc_vocab_size=enc_voc_size,enc_output_dim=embedd_dim,\n",
        "                         enc_inp_length=enc_inp_len,enc_units=lstm_size,\n",
        "                         dec_vocab_size=dec_voc_size,dec_output_dim=embedd_dim,\n",
        "                         dec_inp_length=dec_inp_len,dec_units=lstm_size,\n",
        "                         batch_size=batch_size)\n",
        "\n",
        "log_dir=f'/lstm/Logs/'\n",
        "early_stop = EarlyStopping(monitor='val_loss', min_delta=0.001, patience=10, verbose=1, mode='min')\n",
        "reduce_lr = ReduceLROnPlateau(monitor='val_loss', min_delta=0.001, patience=5, verbose=1, factor=0.9)\n",
        "check_point = ModelCheckpoint('/lstm/model/', monitor='val_loss',\n",
        "                              save_best_only=True, save_weights_only=True, mode='min', verbose=0)"
      ]
    },
    {
      "cell_type": "code",
      "execution_count": null,
      "metadata": {
        "id": "neBk9fX-iyqq"
      },
      "outputs": [],
      "source": [
        "model.compile(optimizer=Adam(learning_rate=0.001), loss=loss_function)"
      ]
    },
    {
      "cell_type": "code",
      "execution_count": null,
      "metadata": {
        "id": "S25xYDZqiyqq",
        "colab": {
          "base_uri": "https://localhost:8080/"
        },
        "outputId": "6e2369dd-bc95-4eb4-fe25-96f35e09174b"
      },
      "outputs": [
        {
          "output_type": "stream",
          "name": "stdout",
          "text": [
            "Epoch 1/30\n",
            "392/392 [==============================] - 285s 695ms/step - loss: 5.7842 - val_loss: 5.0917 - lr: 0.0010\n",
            "Epoch 2/30\n",
            "392/392 [==============================] - 235s 600ms/step - loss: 4.9633 - val_loss: 4.7120 - lr: 0.0010\n",
            "Epoch 3/30\n",
            "392/392 [==============================] - 226s 577ms/step - loss: 4.5148 - val_loss: 4.2046 - lr: 0.0010\n",
            "Epoch 4/30\n",
            "392/392 [==============================] - 224s 571ms/step - loss: 4.0425 - val_loss: 3.8122 - lr: 0.0010\n",
            "Epoch 5/30\n",
            "392/392 [==============================] - 227s 579ms/step - loss: 3.7223 - val_loss: 3.5691 - lr: 0.0010\n",
            "Epoch 6/30\n",
            "392/392 [==============================] - 222s 567ms/step - loss: 3.4821 - val_loss: 3.3647 - lr: 0.0010\n",
            "Epoch 7/30\n",
            "392/392 [==============================] - 223s 568ms/step - loss: 3.2672 - val_loss: 3.1904 - lr: 0.0010\n",
            "Epoch 8/30\n",
            "392/392 [==============================] - 221s 565ms/step - loss: 3.0812 - val_loss: 3.0460 - lr: 0.0010\n",
            "Epoch 9/30\n",
            "392/392 [==============================] - 226s 576ms/step - loss: 2.9204 - val_loss: 2.9256 - lr: 0.0010\n",
            "Epoch 10/30\n",
            "392/392 [==============================] - 222s 565ms/step - loss: 2.7807 - val_loss: 2.8285 - lr: 0.0010\n",
            "Epoch 11/30\n",
            "392/392 [==============================] - 227s 578ms/step - loss: 2.6601 - val_loss: 2.7484 - lr: 0.0010\n",
            "Epoch 12/30\n",
            "392/392 [==============================] - 221s 564ms/step - loss: 2.5554 - val_loss: 2.6828 - lr: 0.0010\n",
            "Epoch 13/30\n",
            "392/392 [==============================] - 222s 565ms/step - loss: 2.4622 - val_loss: 2.6263 - lr: 0.0010\n",
            "Epoch 14/30\n",
            "392/392 [==============================] - 213s 544ms/step - loss: 2.3795 - val_loss: 2.5749 - lr: 0.0010\n",
            "Epoch 15/30\n",
            "392/392 [==============================] - 221s 563ms/step - loss: 2.3049 - val_loss: 2.5353 - lr: 0.0010\n",
            "Epoch 16/30\n",
            "392/392 [==============================] - 212s 542ms/step - loss: 2.2386 - val_loss: 2.5006 - lr: 0.0010\n",
            "Epoch 17/30\n",
            "392/392 [==============================] - 214s 545ms/step - loss: 2.1785 - val_loss: 2.4716 - lr: 0.0010\n",
            "Epoch 18/30\n",
            "392/392 [==============================] - 222s 566ms/step - loss: 2.1239 - val_loss: 2.4460 - lr: 0.0010\n",
            "Epoch 19/30\n",
            "392/392 [==============================] - 226s 576ms/step - loss: 2.0733 - val_loss: 2.4256 - lr: 0.0010\n",
            "Epoch 20/30\n",
            "392/392 [==============================] - 222s 568ms/step - loss: 2.0268 - val_loss: 2.4088 - lr: 0.0010\n",
            "Epoch 21/30\n",
            "392/392 [==============================] - 223s 569ms/step - loss: 1.9833 - val_loss: 2.3878 - lr: 0.0010\n",
            "Epoch 22/30\n",
            "392/392 [==============================] - 221s 565ms/step - loss: 1.9424 - val_loss: 2.3741 - lr: 0.0010\n",
            "Epoch 23/30\n",
            "392/392 [==============================] - 217s 554ms/step - loss: 1.9045 - val_loss: 2.3595 - lr: 0.0010\n",
            "Epoch 24/30\n",
            "392/392 [==============================] - 213s 543ms/step - loss: 1.8693 - val_loss: 2.3526 - lr: 0.0010\n",
            "Epoch 25/30\n",
            "392/392 [==============================] - 229s 584ms/step - loss: 1.8357 - val_loss: 2.3419 - lr: 0.0010\n",
            "Epoch 26/30\n",
            "392/392 [==============================] - 222s 568ms/step - loss: 1.8041 - val_loss: 2.3328 - lr: 0.0010\n",
            "Epoch 27/30\n",
            "392/392 [==============================] - 221s 565ms/step - loss: 1.7743 - val_loss: 2.3232 - lr: 0.0010\n",
            "Epoch 28/30\n",
            "392/392 [==============================] - 212s 542ms/step - loss: 1.7455 - val_loss: 2.3185 - lr: 0.0010\n",
            "Epoch 29/30\n",
            "392/392 [==============================] - 222s 565ms/step - loss: 1.7185 - val_loss: 2.3134 - lr: 0.0010\n",
            "Epoch 30/30\n",
            "392/392 [==============================] - 222s 566ms/step - loss: 1.6927 - val_loss: 2.3079 - lr: 0.0010\n"
          ]
        },
        {
          "output_type": "execute_result",
          "data": {
            "text/plain": [
              "<keras.src.callbacks.History at 0x7fd04c1d7b50>"
            ]
          },
          "metadata": {},
          "execution_count": 145
        }
      ],
      "source": [
        "model.fit(x=[train_enc_inp_truncated, train_dec_inp_truncated], y=train_dec_out_truncated,\n",
        "          validation_data=([val_enc_inp_truncated, val_dec_inp_truncated], val_dec_out_truncated),\n",
        "          epochs=30, batch_size=batch_size, callbacks=[early_stop, reduce_lr, check_point])"
      ]
    },
    {
      "cell_type": "code",
      "execution_count": null,
      "metadata": {
        "id": "TuY3bRDmiyqr",
        "colab": {
          "base_uri": "https://localhost:8080/"
        },
        "outputId": "f7059dbd-4d3b-42de-c2bb-472e716e99e2"
      },
      "outputs": [
        {
          "output_type": "stream",
          "name": "stdout",
          "text": [
            "Model: \"encoder_decoder_1\"\n",
            "_________________________________________________________________\n",
            " Layer (type)                Output Shape              Param #   \n",
            "=================================================================\n",
            " encoder_1 (Encoder)         multiple                  9240440   \n",
            "                                                                 \n",
            " decoder_1 (Decoder)         multiple                  7826340   \n",
            "                                                                 \n",
            " dense_1 (Dense)             multiple                  5059665   \n",
            "                                                                 \n",
            "=================================================================\n",
            "Total params: 22126445 (84.41 MB)\n",
            "Trainable params: 22126445 (84.41 MB)\n",
            "Non-trainable params: 0 (0.00 Byte)\n",
            "_________________________________________________________________\n"
          ]
        }
      ],
      "source": [
        "model.summary()"
      ]
    },
    {
      "cell_type": "code",
      "source": [
        "correct_word_idx_dictionary = tokenizer_dec.word_index\n",
        "correct_idx_word_dictionary = {v: k for k, v in correct_word_idx_dictionary.items()}\n",
        "\n",
        "def predict(input_sentence):\n",
        "    input_sentence = tokenizer_enc.texts_to_sequences([input_sentence])\n",
        "    initialize_hidden_state = tf.zeros([1, 64])\n",
        "    initialize_cell_state = tf.zeros([1, 64])\n",
        "    initialize_states = [initialize_hidden_state, initialize_cell_state]\n",
        "    pred_total = []\n",
        "    encoder_output, encoder_state_h, encoder_state_c = model.layers[0](np.expand_dims(input_sentence[0], 0), ini_states)\n",
        "    states_values = [encoder_state_h, encoder_state_c]\n",
        "    pred = []\n",
        "    sentence = []\n",
        "    cur_vector = np.array([[1]])\n",
        "    for i in range(12):\n",
        "        decoder_output, decoder_state_h, decoder_state_c = model.layers[1](cur_vec, states_values)\n",
        "        output = model.layers[2](decoder_output)\n",
        "        states_values = [decoder_state_h, decoder_state_c]\n",
        "        cur_vector = np.reshape(np.argmax(output), (1, 1))\n",
        "        if correct_idx_word_dict[cur_vec[0][0]] == '<end>':\n",
        "            break\n",
        "        pred.append(cur_vector[0][0])\n",
        "    for i in pred:\n",
        "        sentence.append(correct_idx_word_dictionary[i])\n",
        "    return \" \".join(sentence)"
      ],
      "metadata": {
        "id": "RADp0E3k5i71"
      },
      "execution_count": null,
      "outputs": []
    },
    {
      "cell_type": "code",
      "source": [
        "model.save('/lstm/model/')"
      ],
      "metadata": {
        "id": "5bNDfe8f5x_i"
      },
      "execution_count": null,
      "outputs": []
    }
  ],
  "metadata": {
    "accelerator": "GPU",
    "colab": {
      "provenance": [],
      "gpuType": "T4"
    },
    "kernelspec": {
      "display_name": "Python 3",
      "name": "python3"
    },
    "language_info": {
      "codemirror_mode": {
        "name": "ipython",
        "version": 3
      },
      "file_extension": ".py",
      "mimetype": "text/x-python",
      "name": "python",
      "nbconvert_exporter": "python",
      "pygments_lexer": "ipython3",
      "version": "3.11.5"
    }
  },
  "nbformat": 4,
  "nbformat_minor": 0
}