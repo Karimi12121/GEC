{
  "cells": [
    {
      "cell_type": "code",
      "execution_count": null,
      "metadata": {
        "id": "vLZagBBXQEbM"
      },
      "outputs": [],
      "source": [
        "import warnings\n",
        "import tensorflow as tf\n",
        "from tensorflow.keras.callbacks import LearningRateScheduler, EarlyStopping, ModelCheckpoint, TensorBoard, ReduceLROnPlateau\n",
        "from tensorflow.keras.preprocessing.sequence import pad_sequences\n",
        "from tensorflow.keras.layers import Embedding, LSTM, Dense, RNN\n",
        "from tensorflow.keras.preprocessing.text import Tokenizer\n",
        "from sklearn.model_selection import train_test_split\n",
        "from tensorflow.keras.optimizers import Adam, Nadam\n",
        "from tensorflow.keras.layers import Input, Softmax\n",
        "from tensorflow.keras.models import Model\n",
        "import nltk.translate.bleu_score as bleu\n",
        "import matplotlib.ticker as ticker\n",
        "warnings.filterwarnings('ignore')\n",
        "import matplotlib.pyplot as plt\n",
        "from datetime import datetime\n",
        "from tqdm import tqdm\n",
        "import seaborn as sns\n",
        "import pandas as pd\n",
        "import numpy as np\n",
        "import zipfile\n",
        "import random\n",
        "import shutil\n",
        "import pickle\n",
        "import pytz\n",
        "import re\n",
        "import os\n",
        "import io"
      ]
    },
    {
      "cell_type": "code",
      "execution_count": null,
      "metadata": {
        "id": "1xzfox3LQEbO"
      },
      "outputs": [],
      "source": [
        "tokenizer_enc = pickle.load(open(r\"tokenizer_encoder.pkl\", \"rb\"))\n",
        "tokenizer_dec = pickle.load(open(r\"tokenizer_decoder.pkl\", \"rb\"))\n",
        "\n",
        "train_enc_inp = pickle.load(open(r\"train_encoder_input.pkl\", \"rb\"))\n",
        "val_enc_inp = pickle.load(open(r\"validation_encoder_input.pkl\", \"rb\"))\n",
        "test_enc_inp = pickle.load(open(r\"test_encoder_input.pkl\", \"rb\"))\n",
        "\n",
        "train_dec_inp = pickle.load(open(r\"train_decoder_input.pkl\", \"rb\"))\n",
        "val_dec_inp = pickle.load(open(r\"validation_decoder_input.pkl\", \"rb\"))\n",
        "test_dec_inp = pickle.load(open(r\"test_decoder_input.pkl\", \"rb\"))\n",
        "\n",
        "train_dec_out = pickle.load(open(r\"train_decoder_output.pkl\", \"rb\"))\n",
        "val_dec_out = pickle.load(open(r\"validation_decoder_output.pkl\", \"rb\"))\n",
        "test_dec_out = pickle.load(open(r\"test_decoder_output.pkl\", \"rb\"))"
      ]
    },
    {
      "cell_type": "code",
      "execution_count": null,
      "metadata": {
        "id": "J9vjqSnsQEbP"
      },
      "outputs": [],
      "source": [
        "class Encoder(tf.keras.layers.Layer):\n",
        "\n",
        "\n",
        "    def __init__(self, inp_vocab_size, embedding_size, enc_units, input_length):\n",
        "        super().__init__()\n",
        "        self.enc_units = enc_units\n",
        "        self.embedding = Embedding(input_dim=inp_vocab_size, output_dim=300, input_length=input_length,\n",
        "                                   mask_zero=True, name=\"embedding_layer_encoder\")\n",
        "\n",
        "        self.lstmcell = tf.keras.layers.LSTMCell(enc_units)\n",
        "        self.enc = RNN(self.lstmcell, return_sequences=True, return_state=True)\n",
        "\n",
        "    def call(self, input_sequence, states):\n",
        "        embedding_enc = self.embedding(input_sequence)\n",
        "        enc_output, enc_state_h, enc_state_c = self.enc(embedding_enc, initial_state=states)\n",
        "        return enc_output, enc_state_h, enc_state_c\n",
        "\n",
        "    def initialize_states(self, batch_size):\n",
        "        ini_hidden_state = tf.zeros([batch_size, self.enc_units])\n",
        "        ini_cell_state = tf.zeros([batch_size, self.enc_units])\n",
        "        return [ini_hidden_state, ini_cell_state]"
      ]
    },
    {
      "cell_type": "code",
      "execution_count": null,
      "metadata": {
        "id": "_KXCOVhmBkvx"
      },
      "outputs": [],
      "source": [
        "class Attention(tf.keras.layers.Layer):\n",
        "\n",
        "\n",
        "      def __init__(self,att_units):\n",
        "        super().__init__()\n",
        "        self.softmax = Softmax(axis=1)\n",
        "\n",
        "      def call(self, decoder_hidden_state, encoder_output):\n",
        "        attention_weight = tf.matmul(encoder_output, tf.expand_dims(decoder_hidden_state, axis=2))\n",
        "        context = tf.matmul(tf.transpose(encoder_output, perm=[0, 2, 1]), attention_weight)\n",
        "        context = tf.squeeze(context, axis=2)\n",
        "        output = self.softmax(attention_weight)\n",
        "        return context,output"
      ]
    },
    {
      "cell_type": "code",
      "execution_count": null,
      "metadata": {
        "id": "SRFhI8o6BoW_"
      },
      "outputs": [],
      "source": [
        "class OneStepDecoder(tf.keras.Model):\n",
        "\n",
        "\n",
        "  def __init__(self, tar_vocab_size, embedding_dim, input_length, dec_units, att_units):\n",
        "        super().__init__()\n",
        "        self.tar_vocab_size = tar_vocab_size\n",
        "        self.dec_units = dec_units\n",
        "        self.att_units = att_units\n",
        "        self.embedding = Embedding(input_dim=tar_vocab_size, output_dim=300, input_length=input_length,\n",
        "                           mask_zero=True, name=\"embedding_layer_decoder\")\n",
        "\n",
        "        self.lstmcell = tf.keras.layers.LSTMCell(dec_units)\n",
        "        self.decoder_lstm = RNN(self.lstmcell, return_sequences=True, return_state=True)\n",
        "        self.dense = Dense(tar_vocab_size)\n",
        "        self.attention = Attention(self.att_units)\n",
        "\n",
        "  def call(self, input_to_decoder, encoder_output, state_h, state_c):\n",
        "        embedding_layer = self.embedding(input_to_decoder)\n",
        "        embedding_layer = tf.squeeze(embedding_layer,axis=1)\n",
        "        context_vector, attention_weights = self.attention(state_h, encoder_output)\n",
        "        context_vector_for_concat = tf.concat([context_vector, embedding_layer], 1)\n",
        "        context_vector_for_concat = tf.expand_dims(context_vector_for_concat, 1)\n",
        "        dec_output, dec_state_h, dec_state_c = self.decoder_lstm(context_vector_for_concat, initial_state=[state_h, state_c])\n",
        "        output_after_dense_layer = self.dense(dec_output)\n",
        "        output_after_dense_layer = tf.squeeze(output_after_dense_layer, axis=1)\n",
        "        return output_after_dense_layer, dec_state_h, dec_state_c, attention_weights, context_vector"
      ]
    },
    {
      "cell_type": "code",
      "execution_count": null,
      "metadata": {
        "id": "1HnyXEi3Brw0"
      },
      "outputs": [],
      "source": [
        "class Decoder(tf.keras.Model):\n",
        "\n",
        "\n",
        "    def __init__(self,out_vocab_size, embedding_dim, input_length, dec_units, att_units):\n",
        "        super().__init__()\n",
        "        self.out_vocab_size = out_vocab_size\n",
        "        self.embedding_dim = embedding_dim\n",
        "        self.dec_units = dec_units\n",
        "        self.att_units = att_units\n",
        "        self.input_length = input_length\n",
        "        self.onestepdecoder = OneStepDecoder(self.out_vocab_size, self.embedding_dim, self.input_length, self.dec_units, self.att_units)\n",
        "\n",
        "    @tf.function\n",
        "    def call(self, input_to_decoder, encoder_output, decoder_hidden_state, decoder_cell_state):\n",
        "        all_outputs = tf.TensorArray(tf.float32, size=input_to_decoder.shape[1])\n",
        "        for timestep in range(input_to_decoder.shape[1]):\n",
        "            output, decoder_hidden_state, decoder_cell_state, attention_weights, context_vector = self.onestepdecoder(input_to_decoder[:, timestep:timestep+1], encoder_output, decoder_hidden_state, decoder_cell_state)\n",
        "            all_outputs = all_outputs.write(timestep, output)\n",
        "        all_outputs = tf.transpose(all_outputs.stack(), [1, 0, 2])\n",
        "        return all_outputs"
      ]
    },
    {
      "cell_type": "code",
      "execution_count": null,
      "metadata": {
        "id": "Qcy11BKkByUz"
      },
      "outputs": [],
      "source": [
        "class encoder_decoder(tf.keras.Model):\n",
        "\n",
        "\n",
        "    def __init__(self, inp_vocab_size, out_vocab_size, embedding_size, lstm_size, input_length, batch_size, att_units, *args):\n",
        "      super().__init__()\n",
        "      self.encoder = Encoder(inp_vocab_size, embedding_size, lstm_size, input_length)\n",
        "      self.decoder = Decoder(out_vocab_size, embedding_size, input_length, lstm_size, att_units)\n",
        "      self.batch = batch_size\n",
        "\n",
        "    def call(self,data):\n",
        "      input,output = data[0], data[1]\n",
        "      l = self.encoder.initialize_states(self.batch)\n",
        "      encoder_output, encoder_final_state_h, encoder_final_state_c = self.encoder(input, l)\n",
        "      decoder_output = self.decoder(output, encoder_output, encoder_final_state_h, encoder_final_state_c)\n",
        "      return decoder_output"
      ]
    },
    {
      "cell_type": "code",
      "execution_count": null,
      "metadata": {
        "id": "MbtH7nWcQEbQ"
      },
      "outputs": [],
      "source": [
        "loss_object = tf.keras.losses.SparseCategoricalCrossentropy(from_logits=True, reduction='none')\n",
        "\n",
        "def loss_function(real, pred):\n",
        "    mask = tf.math.logical_not(tf.math.equal(real, 0))\n",
        "    loss_ = loss_object(real, pred)\n",
        "    mask = tf.cast(mask, dtype=loss_.dtype)\n",
        "    loss_ *= mask\n",
        "    return tf.reduce_mean(loss_)"
      ]
    },
    {
      "cell_type": "code",
      "execution_count": null,
      "metadata": {
        "id": "s2UjGlFbQEbS"
      },
      "outputs": [],
      "source": [
        "enc_vocab_size = len(tokenizer_enc.word_index) + 1\n",
        "dec_vocab_size = len(tokenizer_dec.word_index) + 1\n",
        "embedding_dim = 300\n",
        "input_length = 12\n",
        "lstm_size = 192\n",
        "batch_size = 1024\n",
        "att_units = 192"
      ]
    },
    {
      "cell_type": "code",
      "execution_count": null,
      "metadata": {
        "id": "PK86Zx1YQEbS"
      },
      "outputs": [],
      "source": [
        "train_trunc_idx = (train_enc_inp.shape[0]//batch_size)*batch_size\n",
        "val_trunc_idx = (val_enc_inp.shape[0]//batch_size)*batch_size\n",
        "\n",
        "train_enc_inp_truncated = train_enc_inp[:train_trunc_idx]\n",
        "train_dec_inp_truncated = train_dec_inp[:train_trunc_idx]\n",
        "train_dec_out_truncated = train_dec_out[:train_trunc_idx]\n",
        "\n",
        "val_enc_inp_truncated = val_enc_inp[:val_trunc_idx]\n",
        "val_dec_inp_truncated = val_dec_inp[:val_trunc_idx]\n",
        "val_dec_out_truncated = val_dec_out[:val_trunc_idx]"
      ]
    },
    {
      "cell_type": "code",
      "execution_count": null,
      "metadata": {
        "id": "UxpsW6xkQEbT"
      },
      "outputs": [],
      "source": [
        "model = encoder_decoder(enc_vocab_size, dec_vocab_size, embedding_dim, lstm_size, input_length, batch_size, att_units)"
      ]
    },
    {
      "cell_type": "code",
      "execution_count": null,
      "metadata": {
        "id": "jq-VYy-dQEbT"
      },
      "outputs": [],
      "source": [
        "log_dir=f'attention_mechanism/models/attention_mechanism/Logs/'\n",
        "early_stop = EarlyStopping(monitor='val_loss', patience=10, verbose=1, mode='min')\n",
        "reduce_lr = ReduceLROnPlateau(monitor='val_loss', patience=1, verbose=1, factor=0.9, mode='min')\n",
        "check_point = ModelCheckpoint('attention_mechanism/models/attention_mechanism/', monitor='val_loss',\n",
        "                              save_best_only=True, save_weights_only=True, mode='min', verbose=0)"
      ]
    },
    {
      "cell_type": "code",
      "execution_count": null,
      "metadata": {
        "id": "gAZSNQAHQEbU"
      },
      "outputs": [],
      "source": [
        "model.compile(optimizer=Nadam(learning_rate=0.001), loss=loss_function)"
      ]
    },
    {
      "cell_type": "code",
      "execution_count": null,
      "metadata": {
        "colab": {
          "base_uri": "https://localhost:8080/"
        },
        "id": "vz4rnf_73W5P",
        "outputId": "eed6e661-186b-4cfc-bdb3-b8cf6727a14f"
      },
      "outputs": [
        {
          "name": "stdout",
          "output_type": "stream",
          "text": [
            "Epoch 1/30\n",
            "392/392 [==============================] - 482s 1s/step - loss: 5.3406 - val_loss: 5.0056 - lr: 0.0010\n",
            "Epoch 2/30\n",
            "392/392 [==============================] - 390s 993ms/step - loss: 4.9482 - val_loss: 4.6929 - lr: 0.0010\n",
            "Epoch 3/30\n",
            "392/392 [==============================] - 393s 1s/step - loss: 4.5261 - val_loss: 4.2173 - lr: 0.0010\n",
            "Epoch 4/30\n",
            "392/392 [==============================] - 387s 988ms/step - loss: 4.0792 - val_loss: 3.8654 - lr: 0.0010\n",
            "Epoch 5/30\n",
            "392/392 [==============================] - 387s 988ms/step - loss: 3.7618 - val_loss: 3.6235 - lr: 0.0010\n",
            "Epoch 6/30\n",
            "392/392 [==============================] - 387s 988ms/step - loss: 3.5203 - val_loss: 3.4038 - lr: 0.0010\n",
            "Epoch 7/30\n",
            "392/392 [==============================] - 389s 993ms/step - loss: 3.2359 - val_loss: 3.1140 - lr: 0.0010\n",
            "Epoch 8/30\n",
            "392/392 [==============================] - 388s 990ms/step - loss: 3.0206 - val_loss: 2.9469 - lr: 0.0010\n",
            "Epoch 9/30\n",
            "392/392 [==============================] - 389s 992ms/step - loss: 2.7630 - val_loss: 2.7538 - lr: 0.0010\n",
            "Epoch 10/30\n",
            "392/392 [==============================] - 386s 984ms/step - loss: 2.5703 - val_loss: 2.6211 - lr: 0.0010\n",
            "Epoch 11/30\n",
            "392/392 [==============================] - 388s 991ms/step - loss: 2.4301 - val_loss: 2.5113 - lr: 0.0010\n",
            "Epoch 12/30\n",
            "392/392 [==============================] - 395s 1s/step - loss: 2.2878 - val_loss: 2.4599 - lr: 0.0010\n",
            "Epoch 13/30\n",
            "392/392 [==============================] - 387s 988ms/step - loss: 2.1784 - val_loss: 2.3434 - lr: 0.0010\n",
            "Epoch 14/30\n",
            "392/392 [==============================] - 392s 1000ms/step - loss: 2.0681 - val_loss: 2.2775 - lr: 0.0010\n",
            "Epoch 15/30\n",
            "392/392 [==============================] - 388s 989ms/step - loss: 1.9698 - val_loss: 2.2187 - lr: 0.0010\n",
            "Epoch 16/30\n",
            "392/392 [==============================] - 385s 983ms/step - loss: 1.8824 - val_loss: 2.1686 - lr: 0.0010\n",
            "Epoch 17/30\n",
            "392/392 [==============================] - 392s 1s/step - loss: 1.7979 - val_loss: 2.1248 - lr: 0.0010\n",
            "Epoch 18/30\n",
            "392/392 [==============================] - 389s 994ms/step - loss: 1.7229 - val_loss: 2.0855 - lr: 0.0010\n",
            "Epoch 19/30\n",
            "392/392 [==============================] - 386s 984ms/step - loss: 1.6581 - val_loss: 2.0528 - lr: 0.0010\n",
            "Epoch 20/30\n",
            "392/392 [==============================] - 386s 985ms/step - loss: 1.5893 - val_loss: 2.0200 - lr: 0.0010\n",
            "Epoch 21/30\n",
            "392/392 [==============================] - 386s 984ms/step - loss: 1.5245 - val_loss: 1.9932 - lr: 0.0010\n",
            "Epoch 22/30\n",
            "392/392 [==============================] - 393s 1s/step - loss: 1.4657 - val_loss: 1.9657 - lr: 0.0010\n",
            "Epoch 23/30\n",
            "392/392 [==============================] - 388s 990ms/step - loss: 1.4130 - val_loss: 1.9444 - lr: 0.0010\n",
            "Epoch 24/30\n",
            "392/392 [==============================] - ETA: 0s - loss: 1.3615\n",
            "Epoch 24: ReduceLROnPlateau reducing learning rate to 0.0009000000427477062.\n",
            "392/392 [==============================] - 383s 978ms/step - loss: 1.3615 - val_loss: 2.0021 - lr: 0.0010\n",
            "Epoch 25/30\n",
            "392/392 [==============================] - 385s 983ms/step - loss: 1.3176 - val_loss: 1.9342 - lr: 9.0000e-04\n",
            "Epoch 26/30\n",
            "392/392 [==============================] - 386s 984ms/step - loss: 1.2745 - val_loss: 1.8932 - lr: 9.0000e-04\n",
            "Epoch 27/30\n",
            "392/392 [==============================] - 386s 985ms/step - loss: 1.2320 - val_loss: 1.8818 - lr: 9.0000e-04\n",
            "Epoch 28/30\n",
            "392/392 [==============================] - 384s 981ms/step - loss: 1.1965 - val_loss: 1.8710 - lr: 9.0000e-04\n",
            "Epoch 29/30\n",
            "392/392 [==============================] - 388s 989ms/step - loss: 1.1689 - val_loss: 1.8677 - lr: 9.0000e-04\n",
            "Epoch 30/30\n",
            "392/392 [==============================] - 386s 986ms/step - loss: 1.1319 - val_loss: 1.8544 - lr: 9.0000e-04\n"
          ]
        }
      ],
      "source": [
        "model_history = model.fit(x=[train_enc_inp_truncated, train_dec_inp_truncated], y=train_dec_out_truncated,\n",
        "                          validation_data=([val_enc_inp_truncated, val_dec_inp_truncated], val_dec_out_truncated),\n",
        "                          epochs=30, batch_size=batch_size, callbacks=[early_stop, reduce_lr, check_point])"
      ]
    },
    {
      "cell_type": "code",
      "execution_count": null,
      "metadata": {
        "colab": {
          "base_uri": "https://localhost:8080/"
        },
        "id": "0aCYWTnNQEbV",
        "outputId": "b33e7675-afb7-4b77-8f27-e221f6021dc8"
      },
      "outputs": [
        {
          "name": "stdout",
          "output_type": "stream",
          "text": [
            "Model: \"encoder_decoder\"\n",
            "_________________________________________________________________\n",
            " Layer (type)                Output Shape              Param #   \n",
            "=================================================================\n",
            " encoder (Encoder)           multiple                  28032624  \n",
            "                                                                 \n",
            " decoder (Decoder)           multiple                  38973178  \n",
            "                                                                 \n",
            "=================================================================\n",
            "Total params: 67005802 (255.61 MB)\n",
            "Trainable params: 67005802 (255.61 MB)\n",
            "Non-trainable params: 0 (0.00 Byte)\n",
            "_________________________________________________________________\n"
          ]
        }
      ],
      "source": [
        "model.summary()"
      ]
    },
    {
      "cell_type": "code",
      "execution_count": null,
      "metadata": {
        "id": "Ht9Tpmk8QEbh"
      },
      "outputs": [],
      "source": [
        "corrc_wrd_idx_dict = tokenizer_dec.word_index\n",
        "corrc_idx_wrd_dict = {v: k for k, v in corrc_wrd_idx_dict.items()}\n",
        "\n",
        "def predict(input_sentence):\n",
        "    input_sentence = tokenizer_enc.texts_to_sequences([input_sentence])[0]\n",
        "    initial_hidden_state = tf.zeros([1, 192])\n",
        "    initial_cell_state = tf.zeros([1, 192])\n",
        "    encoder_initial_state = [initial_hidden_state, initial_cell_state]\n",
        "    input_sentence = tf.keras.preprocessing.sequence.pad_sequences([input_sentence], maxlen=12, padding='post')\n",
        "    input_sentence = input_sentence[0]\n",
        "    enc_output, enc_state_h, enc_state_c = model.layers[0](np.expand_dims(input_sentence, 0), encoder_initial_state)\n",
        "    pred = []\n",
        "    sentence = []\n",
        "    cur_vec = np.ones((1, 1), dtype='int')\n",
        "    attention_array = np.zeros([12, 12])\n",
        "    for i in range(12):\n",
        "        output,deco_state_h, deco_state_c, att_weights, context_vector = model.layers[1].onestepdecoder(cur_vec, enc_output, enc_state_h, enc_state_c)\n",
        "        enc_state_h, enc_state_c = deco_state_h, deco_state_c\n",
        "        cur_vec = np.reshape(np.argmax(output), (1, 1))\n",
        "        if corrc_idx_wrd_dict[cur_vec[0][0]] == '<end>':\n",
        "            break\n",
        "        pred.append(cur_vec[0][0])\n",
        "        att_weights = tf.squeeze(att_weights)\n",
        "        attention_array[i] = att_weights\n",
        "    for i in pred:\n",
        "        sentence.append(corrc_idx_wrd_dict[i])\n",
        "    return \" \".join(sentence), attention_array"
      ]
    },
    {
      "cell_type": "code",
      "execution_count": null,
      "metadata": {
        "id": "iVFZrqMBQEbi"
      },
      "outputs": [],
      "source": [
        "train = pd.read_csv('gec_train.csv', na_filter=False, index_col=0)\n",
        "validation = pd.read_csv('gec_validation.csv', na_filter=False, index_col=0)\n",
        "test = pd.read_csv('gec_test.csv', na_filter=False, index_col=0)"
      ]
    },
    {
      "cell_type": "code",
      "execution_count": null,
      "metadata": {
        "colab": {
          "base_uri": "https://localhost:8080/"
        },
        "id": "ZFbIKO4yQEbm",
        "outputId": "d1140f9b-ae6b-481f-93a9-91079e0246ef"
      },
      "outputs": [
        {
          "name": "stderr",
          "output_type": "stream",
          "text": [
            "WARNING:absl:<__main__.Attention object at 0x7f657fcd9c30> has the same name 'Attention' as a built-in Keras object. Consider renaming <class '__main__.Attention'> to avoid naming conflicts when loading with `tf.keras.models.load_model`. If renaming is not possible, pass the object in the `custom_objects` parameter of the load function.\n"
          ]
        }
      ],
      "source": [
        "model.save('attention_mechanism/models/attention_mechanism/')"
      ]
    },
    {
      "cell_type": "code",
      "execution_count": null,
      "metadata": {
        "id": "oBmOxwMcMvdB"
      },
      "outputs": [],
      "source": [
        "model.save_weights('attention_mechanism/models/attention_mechanism/attention_with_weight')"
      ]
    }
  ],
  "metadata": {
    "accelerator": "GPU",
    "colab": {
      "provenance": []
    },
    "kernelspec": {
      "display_name": "Python 3 (ipykernel)",
      "language": "python",
      "name": "python3"
    },
    "language_info": {
      "codemirror_mode": {
        "name": "ipython",
        "version": 3
      },
      "file_extension": ".py",
      "mimetype": "text/x-python",
      "name": "python",
      "nbconvert_exporter": "python",
      "pygments_lexer": "ipython3",
      "version": "3.11.5"
    }
  },
  "nbformat": 4,
  "nbformat_minor": 0
}
